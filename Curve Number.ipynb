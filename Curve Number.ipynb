{
 "cells": [
  {
   "cell_type": "code",
   "execution_count": 2,
   "metadata": {},
   "outputs": [
    {
     "data": {
      "text/html": [
       "<div class='gpresult'><h2>Messages</h2><div id='messages'>Start Time: Wednesday, October 30, 2024 2:10:39 PM<br>Reading Features...<br>Cracking Features...<br>Assembling Features...<br>Succeeded at Wednesday, October 30, 2024 2:10:40 PM (Elapsed Time: 1.11 seconds)<br></div><div id = 'default' /></div></div>"
      ],
      "text/plain": [
       "<Result 'C:\\\\Local_GIS_Scripting\\\\Water Resources Sub Hub Help\\\\Master_WR_Content.gdb\\\\CN_Intersect_Hwy_71'>"
      ]
     },
     "execution_count": 2,
     "metadata": {},
     "output_type": "execute_result"
    }
   ],
   "source": [
    "#NOTE: if you ever get issues with the map not drawing your data correctly, remove the layer your missing from the map and hit control + Z\n",
    "arcpy.env.workspace = r\"C:\\Local_GIS_Scripting\\Water Resources Sub Hub Help\\Master_WR_Content.gdb\"\n",
    "\n",
    "input_polygons = \"Polygons_Intersect_Dissolve\" # Watershed Polygons\n",
    "input_master_dataset = \"State\" # Set either to metro or state\n",
    "input_ID_dissolve_field = \"FID_Polygons\" # If your data is coming over from a kml leave this alone\n",
    "input_project_name = \"Hwy_71\"\n",
    "\n",
    "master_dataset = f'{input_master_dataset}_CN_Polys'\n",
    "arcpy.management.SelectLayerByLocation(master_dataset, \"INTERSECT\", input_polygons, selection_type = \"NEW_SELECTION\")\n",
    "\n",
    "intersect_output = fr\"CN_Intersect_{input_project_name}\"\n",
    "arcpy.analysis.Intersect(f\"{input_polygons} #;{master_dataset} #\", intersect_output)\n",
    "\n",
    "# To get the labels, turn on labels, then click labeling properties and replace the expression text with this: $feature.hydgrpdcd + \", \" + $feature.Class + \", \" + $feature.Value\n",
    "# After running this block feel free to go in and manually edit some of the curve values you may find from the output. Make sure to save the output after making changes in the edit tab."
   ]
  },
  {
   "cell_type": "code",
   "execution_count": 3,
   "metadata": {},
   "outputs": [],
   "source": [
    "# Output feature classes\n",
    "dissolve_output = fr\"CN_Dissolved_{input_project_name}\"\n",
    "\n",
    "# Step 2: Add Field 'CN_x_Area' (double) and calculate product of Shape_Area and CN field\n",
    "arcpy.management.AddField(intersect_output, \"CN_x_Area\", \"DOUBLE\")\n",
    "\n",
    "# Calculate the CN_x_Area field as Shape_Area * CN\n",
    "with arcpy.da.UpdateCursor(intersect_output, [\"SHAPE@AREA\", \"Value\", \"CN_x_Area\"]) as cursor:\n",
    "    for row in cursor:\n",
    "        row[2] = row[0] * row[1]  # CN_x_Area = Shape_Area * CN\n",
    "        cursor.updateRow(row)\n",
    "\n",
    "# Step 3: Dissolve on 'FID_Polygons' and sum 'CN_x_Area'\n",
    "arcpy.management.Dissolve(intersect_output, dissolve_output, input_ID_dissolve_field, [[\"CN_x_Area\", \"SUM\"]])\n",
    "\n",
    "# Step 4: Add 'CN_Weighted' field (double)\n",
    "arcpy.management.AddField(dissolve_output, \"CN_Weighted\", \"DOUBLE\")\n",
    "\n",
    "# Calculate CN_Weighted = summed CN_x_Area / new Shape_Area\n",
    "with arcpy.da.UpdateCursor(dissolve_output, [\"SUM_CN_x_Area\", \"SHAPE@AREA\", \"CN_Weighted\"]) as cursor:\n",
    "    for row in cursor:\n",
    "        row[2] = row[0] / row[1]  # CN_Weighted = SUM(CN_x_Area) / new Shape_Area\n",
    "        cursor.updateRow(row)"
   ]
  },
  {
   "cell_type": "code",
   "execution_count": null,
   "metadata": {},
   "outputs": [],
   "source": []
  }
 ],
 "metadata": {
  "kernelspec": {
   "display_name": "ArcGISPro",
   "language": "Python",
   "name": "python3"
  },
  "language_info": {
   "file_extension": ".py",
   "name": "python",
   "version": "3"
  }
 },
 "nbformat": 4,
 "nbformat_minor": 2
}
