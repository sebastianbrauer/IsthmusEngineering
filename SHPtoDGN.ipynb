{
 "cells": [
  {
   "cell_type": "code",
   "execution_count": null,
   "id": "1d566c82",
   "metadata": {},
   "outputs": [],
   "source": [
    "'''READ ME: \n",
    "\n",
    "This is a Python Jupyter Notebook designed to convert any SHP into a DGN with the proper spatial reference.\n",
    "Please enter the necessary user inputs below and run the script as needed.\n",
    "\n",
    "Best practice as always to bring all of the files locally somehwere on the C: Drive for the best performance.\n",
    "\n",
    "Sebastian Brauer - 2024/08/21\n",
    "'''\n",
    "\n",
    "import arcpy\n",
    "from datetime import datetime\n",
    "print(f\"Started: {datetime.now().strftime('%Y-%m-%d %H:%M:%S')}\")\n",
    "\n",
    "input_shp_path = r\"I:\\Library\\Isthmus\\GIS\\Data\\TH_61_Test.shp\" # REQUIRED USER INPUT in order to find the file needed for the conversion.\n",
    "input_output_folder = r'I:\\Library\\Isthmus\\GIS\\Data' # REQUIRED USER INPUT output folder save location.\n",
    "input_output_name = \"TH_61_Test_DGN\" # REQUIRED USER INPUT output file name.\n",
    "\n",
    "\n",
    "arcpy.conversion.ExportCAD(\n",
    "    in_features = input_shp_path,\n",
    "    Output_Type = \"DGN_V8\",\n",
    "    Output_File = f'{input_output_folder}\\{input_output_name}.dgn',\n",
    "    Ignore_FileNames = \"Ignore_Filenames_in_Tables\",\n",
    "    Append_To_Existing = \"Overwrite_Existing_Files\",\n",
    "    Seed_File = r\"C:\\program files\\arcgis\\pro\\Resources\\ArcToolbox\\Templates\\CAD\\template2d_US_Feet.dgn\"\n",
    ")\n",
    "\n",
    "print(f\"SHP converted to DGN: {datetime.now().strftime('%Y-%m-%d %H:%M:%S')}\")"
   ]
  }
 ],
 "metadata": {
  "kernelspec": {
   "display_name": "Python 3 (ipykernel)",
   "language": "python",
   "name": "python3"
  },
  "language_info": {
   "codemirror_mode": {
    "name": "ipython",
    "version": 3
   },
   "file_extension": ".py",
   "mimetype": "text/x-python",
   "name": "python",
   "nbconvert_exporter": "python",
   "pygments_lexer": "ipython3",
   "version": "3.11.8"
  }
 },
 "nbformat": 4,
 "nbformat_minor": 5
}
