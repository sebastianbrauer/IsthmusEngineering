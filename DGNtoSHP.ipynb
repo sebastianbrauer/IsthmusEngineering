{
 "cells": [
  {
   "cell_type": "code",
   "execution_count": 1,
   "id": "be6bde1f",
   "metadata": {},
   "outputs": [
    {
     "name": "stdout",
     "output_type": "stream",
     "text": [
      "Started: 2024-08-21 11:44:27\n",
      "SHP converted to DGN: 2024-08-21 11:44:30\n"
     ]
    }
   ],
   "source": [
    "'''READ ME: \n",
    "\n",
    "This is a Python Jupyter Notebook designed to convert any DGN into a SHP with the proper spatial reference.\n",
    "Please enter the necessary user inputs below and run the script as needed.\n",
    "\n",
    "Best practice as always to bring all of the files locally somehwere on the C: Drive for the best performance.\n",
    "\n",
    "Sebastian Brauer - 2024/07/31\n",
    "'''\n",
    "\n",
    "import arcpy\n",
    "from datetime import datetime\n",
    "print(f\"Started: {datetime.now().strftime('%Y-%m-%d %H:%M:%S')}\")\n",
    "\n",
    "input_dgn_path = r\"I:\\Library\\Isthmus\\GIS\\Data\\Twin_Harbors_TH_61_ExportCAD.dgn\" # REQUIRED USER INPUT in order to find the file needed for the conversion.\n",
    "input_output_folder = r'I:\\Library\\Isthmus\\GIS\\Data' # REQUIRED USER INPUT output folder save location.\n",
    "input_output_name = \"TH_61_Test\" # REQUIRED USER INPUT output file name.\n",
    "\n",
    "\n",
    "in_features = input_dgn_path + '\\Polyline' # Make sure we only grab the polyline from the dgn.\n",
    "out_features = fr'{input_output_folder}\\{input_output_name}.shp' #Make sure we are exporting a shp.\n",
    "arcpy.conversion.ExportFeatures(in_features, out_features) # Run the export tool.\n",
    "\n",
    "\n",
    "print(f\"Polylines converted to shp: {datetime.now().strftime('%Y-%m-%d %H:%M:%S')}\")"
   ]
  },
  {
   "cell_type": "code",
   "execution_count": 2,
   "id": "0a582ace",
   "metadata": {},
   "outputs": [
    {
     "name": "stdout",
     "output_type": "stream",
     "text": [
      "Windows-1252\n"
     ]
    }
   ],
   "source": [
    "import chardet\n",
    "\n",
    "with open(r'C:\\Users\\sbrauer\\OneDrive - Isthmus Engineering\\Documents\\2024\\Water Resources Sub Hub Help\\Curve Number Generator.pyt', 'rb') as f:\n",
    "    result = chardet.detect(f.read())\n",
    "    print(result['encoding'])"
   ]
  },
  {
   "cell_type": "code",
   "execution_count": null,
   "id": "d1328914",
   "metadata": {},
   "outputs": [],
   "source": []
  }
 ],
 "metadata": {
  "kernelspec": {
   "display_name": "Python 3 (ipykernel)",
   "language": "python",
   "name": "python3"
  },
  "language_info": {
   "codemirror_mode": {
    "name": "ipython",
    "version": 3
   },
   "file_extension": ".py",
   "mimetype": "text/x-python",
   "name": "python",
   "nbconvert_exporter": "python",
   "pygments_lexer": "ipython3",
   "version": "3.11.8"
  }
 },
 "nbformat": 4,
 "nbformat_minor": 5
}
